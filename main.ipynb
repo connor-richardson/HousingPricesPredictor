{
 "cells": [
  {
   "cell_type": "code",
   "execution_count": 5,
   "id": "6fec5416",
   "metadata": {},
   "outputs": [
    {
     "name": "stdout",
     "output_type": "stream",
     "text": [
      "['MSSubClass', 'MSZoning', 'LotFrontage', 'LotArea', 'Street', 'Alley', 'LotShape', 'LandContour', 'Utilities', 'LotConfig', 'LandSlope', 'Neighborhood', 'Condition1', 'Condition2', 'BldgType', 'HouseStyle', 'OverallQual', 'OverallCond', 'YearBuilt', 'YearRemodAdd', 'RoofStyle', 'RoofMatl', 'Exterior1st', 'Exterior2nd', 'MasVnrType', 'MasVnrArea', 'ExterQual', 'ExterCond', 'Foundation', 'BsmtQual', 'BsmtCond', 'BsmtExposure', 'BsmtFinType1', 'BsmtFinSF1', 'BsmtFinType2', 'BsmtFinSF2', 'BsmtUnfSF', 'TotalBsmtSF', 'Heating', 'HeatingQC', 'CentralAir', 'Electrical', '1stFlrSF', '2ndFlrSF', 'LowQualFinSF', 'GrLivArea', 'BsmtFullBath', 'BsmtHalfBath', 'FullBath', 'HalfBath', 'BedroomAbvGr', 'KitchenAbvGr', 'KitchenQual', 'TotRmsAbvGrd', 'Functional', 'Fireplaces', 'FireplaceQu', 'GarageType', 'GarageYrBlt', 'GarageFinish', 'GarageCars', 'GarageArea', 'GarageQual', 'GarageCond', 'PavedDrive', 'WoodDeckSF', 'OpenPorchSF', 'EnclosedPorch', '3SsnPorch', 'ScreenPorch', 'PoolArea', 'PoolQC', 'Fence', 'MiscFeature', 'MiscVal', 'MoSold', 'YrSold', 'SaleType', 'SaleCondition', 'SalePrice']\n"
     ]
    }
   ],
   "source": [
    "import pandas as pd\n",
    "import numpy as np\n",
    "import xgboost as xgb\n",
    "import matplotlib.pyplot as plt\n",
    "import seaborn as sns\n",
    "\n",
    "\n",
    "\n",
    "train_data = pd.read_csv(\"train.csv\")\n",
    "train_data = train_data.drop('Id', axis=1)\n",
    "print(train_data.columns.tolist())\n",
    "\n",
    "\n",
    "# print(data['SalePrice'].describe())\n",
    "# plt.figure(figsize=(9, 8))\n",
    "# sns.distplot(data['SalePrice'], color='g', bins=100, hist_kws={'alpha': 0.4});\n",
    "\n",
    "X = train_data.drop(columns=['SalePrice'])\n",
    "y = train_data['SalePrice']\n",
    "\n",
    "for col in X.select_dtypes(include='object').columns:\n",
    "    X[col] = X[col].fillna('None').astype('category')\n",
    "\n",
    "for col in X.select_dtypes(include=['int64', 'float64']).columns:\n",
    "    X[col] = X[col].fillna(X[col].median())\n",
    "\n",
    "data_dmatrix = xgb.DMatrix(data=X, label=y, enable_categorical=True)"
   ]
  },
  {
   "cell_type": "code",
   "execution_count": 6,
   "id": "69d0a407",
   "metadata": {},
   "outputs": [
    {
     "name": "stdout",
     "output_type": "stream",
     "text": [
      "Fitting 5 folds for each of 10 candidates, totalling 50 fits\n",
      "[CV] END learning_rate=0.2, max_depth=6, min_child_weight=100, n_estimators=400; total time=   0.6s\n",
      "[CV] END learning_rate=0.2, max_depth=6, min_child_weight=100, n_estimators=400; total time=   0.5s\n",
      "[CV] END learning_rate=0.2, max_depth=6, min_child_weight=100, n_estimators=400; total time=   0.6s\n",
      "[CV] END learning_rate=0.2, max_depth=6, min_child_weight=100, n_estimators=400; total time=   0.5s\n",
      "[CV] END learning_rate=0.2, max_depth=6, min_child_weight=100, n_estimators=400; total time=   0.5s\n",
      "[CV] END learning_rate=0.1, max_depth=9, min_child_weight=1, n_estimators=100; total time=   1.3s\n",
      "[CV] END learning_rate=0.1, max_depth=9, min_child_weight=1, n_estimators=100; total time=   1.4s\n",
      "[CV] END learning_rate=0.1, max_depth=9, min_child_weight=1, n_estimators=100; total time=   1.4s\n",
      "[CV] END learning_rate=0.1, max_depth=9, min_child_weight=1, n_estimators=100; total time=   1.4s\n",
      "[CV] END learning_rate=0.1, max_depth=9, min_child_weight=1, n_estimators=100; total time=   1.5s\n",
      "[CV] END learning_rate=0.05, max_depth=9, min_child_weight=10, n_estimators=400; total time=   1.0s\n",
      "[CV] END learning_rate=0.05, max_depth=9, min_child_weight=10, n_estimators=400; total time=   1.2s\n",
      "[CV] END learning_rate=0.05, max_depth=9, min_child_weight=10, n_estimators=400; total time=   1.2s\n",
      "[CV] END learning_rate=0.1, max_depth=3, min_child_weight=1, n_estimators=100; total time=   0.1s\n",
      "[CV] END learning_rate=0.1, max_depth=3, min_child_weight=1, n_estimators=100; total time=   0.1s\n",
      "[CV] END learning_rate=0.1, max_depth=3, min_child_weight=1, n_estimators=100; total time=   0.1s\n",
      "[CV] END learning_rate=0.1, max_depth=3, min_child_weight=1, n_estimators=100; total time=   0.1s\n",
      "[CV] END learning_rate=0.05, max_depth=9, min_child_weight=10, n_estimators=400; total time=   1.0s\n",
      "[CV] END learning_rate=0.1, max_depth=3, min_child_weight=1, n_estimators=100; total time=   0.2s\n",
      "[CV] END learning_rate=0.05, max_depth=9, min_child_weight=10, n_estimators=400; total time=   1.1s\n",
      "[CV] END learning_rate=0.1, max_depth=6, min_child_weight=1, n_estimators=800; total time=   3.0s\n",
      "[CV] END learning_rate=0.1, max_depth=6, min_child_weight=1, n_estimators=800; total time=   2.9s\n",
      "[CV] END learning_rate=0.1, max_depth=6, min_child_weight=1, n_estimators=800; total time=   2.8s\n",
      "[CV] END learning_rate=0.1, max_depth=6, min_child_weight=1, n_estimators=800; total time=   3.0s\n",
      "[CV] END learning_rate=0.05, max_depth=3, min_child_weight=1, n_estimators=800; total time=   0.8s\n",
      "[CV] END learning_rate=0.1, max_depth=6, min_child_weight=1, n_estimators=800; total time=   2.9s\n",
      "[CV] END learning_rate=0.05, max_depth=3, min_child_weight=1, n_estimators=800; total time=   0.8s\n",
      "[CV] END learning_rate=0.05, max_depth=9, min_child_weight=100, n_estimators=100; total time=   0.1s\n",
      "[CV] END learning_rate=0.05, max_depth=9, min_child_weight=100, n_estimators=100; total time=   0.2s\n",
      "[CV] END learning_rate=0.05, max_depth=9, min_child_weight=100, n_estimators=100; total time=   0.2s\n",
      "[CV] END learning_rate=0.05, max_depth=9, min_child_weight=100, n_estimators=100; total time=   0.1s\n",
      "[CV] END learning_rate=0.05, max_depth=9, min_child_weight=100, n_estimators=100; total time=   0.2s\n",
      "[CV] END learning_rate=0.05, max_depth=3, min_child_weight=1, n_estimators=800; total time=   0.8s\n",
      "[CV] END learning_rate=0.05, max_depth=3, min_child_weight=1, n_estimators=800; total time=   0.8s\n",
      "[CV] END learning_rate=0.05, max_depth=3, min_child_weight=1, n_estimators=800; total time=   0.8s\n",
      "[CV] END learning_rate=0.05, max_depth=6, min_child_weight=1, n_estimators=100; total time=   0.5s\n",
      "[CV] END learning_rate=0.05, max_depth=6, min_child_weight=1, n_estimators=100; total time=   0.5s\n",
      "[CV] END learning_rate=0.1, max_depth=9, min_child_weight=100, n_estimators=800; total time=   0.9s\n",
      "[CV] END learning_rate=0.1, max_depth=9, min_child_weight=100, n_estimators=800; total time=   0.9s\n",
      "[CV] END learning_rate=0.1, max_depth=9, min_child_weight=100, n_estimators=800; total time=   0.9s\n",
      "[CV] END learning_rate=0.1, max_depth=9, min_child_weight=100, n_estimators=800; total time=   1.0s\n",
      "[CV] END learning_rate=0.05, max_depth=6, min_child_weight=1, n_estimators=100; total time=   0.4s\n",
      "[CV] END learning_rate=0.05, max_depth=6, min_child_weight=1, n_estimators=100; total time=   0.5s\n",
      "[CV] END learning_rate=0.1, max_depth=9, min_child_weight=100, n_estimators=800; total time=   1.0s\n",
      "[CV] END learning_rate=0.05, max_depth=6, min_child_weight=1, n_estimators=100; total time=   0.5s\n",
      "[CV] END learning_rate=0.1, max_depth=3, min_child_weight=100, n_estimators=800; total time=   0.5s\n",
      "[CV] END learning_rate=0.1, max_depth=3, min_child_weight=100, n_estimators=800; total time=   0.5s\n",
      "[CV] END learning_rate=0.1, max_depth=3, min_child_weight=100, n_estimators=800; total time=   0.5s\n",
      "[CV] END learning_rate=0.1, max_depth=3, min_child_weight=100, n_estimators=800; total time=   0.4s\n",
      "[CV] END learning_rate=0.1, max_depth=3, min_child_weight=100, n_estimators=800; total time=   0.5s\n",
      "{'n_estimators': 800, 'min_child_weight': 1, 'max_depth': 3, 'learning_rate': 0.05}\n"
     ]
    }
   ],
   "source": [
    "from xgboost import XGBRegressor\n",
    "from sklearn.model_selection import RandomizedSearchCV, KFold\n",
    "\n",
    "xgb_reg = XGBRegressor(\n",
    "    objective='reg:squarederror',\n",
    "    eval_metric='rmse',\n",
    "    enable_categorical=True\n",
    ")\n",
    "parameter_grid = {\n",
    "    'n_estimators': [100, 400, 800],\n",
    "    'max_depth': [3, 6, 9],\n",
    "    'learning_rate': [0.05, 0.1, 0.20],\n",
    "    'min_child_weight': [1, 10, 100]\n",
    "    }\n",
    "\n",
    "\n",
    "cv_strategy = KFold(n_splits=5, shuffle=True, random_state=42)\n",
    "\n",
    "random_search = RandomizedSearchCV(\n",
    "    estimator=xgb_reg,\n",
    "    param_distributions=parameter_grid,\n",
    "    n_iter=10,\n",
    "    scoring='neg_root_mean_squared_error',\n",
    "    cv=cv_strategy,\n",
    "    verbose=2,\n",
    "    n_jobs=-1\n",
    ")\n",
    "\n",
    "random_search.fit(X, y)\n",
    "print(random_search.best_params_)\n",
    "model = random_search.best_estimator_\n"
   ]
  },
  {
   "cell_type": "code",
   "execution_count": null,
   "id": "86cfb266",
   "metadata": {},
   "outputs": [
    {
     "name": "stdout",
     "output_type": "stream",
     "text": [
      "Log-RMSE on training data: 0.05205835529625534\n"
     ]
    }
   ],
   "source": [
    "# y_pred_train = model.predict(X)\n",
    "# train_rmse = np.sqrt(mean_squared_error(np.log1p(y), np.log1p(y_pred_train)))\n",
    "# print(\"Log-RMSE on training data:\", train_rmse)"
   ]
  },
  {
   "cell_type": "code",
   "execution_count": null,
   "id": "524288e0",
   "metadata": {},
   "outputs": [],
   "source": [
    "test_data = pd.read_csv(\"test.csv\")\n",
    "test_data = test_data.drop('Id', axis=1)\n",
    "X_test = test_data.copy()\n",
    "\n",
    "\n",
    "for col in X.select_dtypes(include='category').columns:\n",
    "    if col in X_test.columns:\n",
    "        X_test[col] = X_test[col].fillna('None').astype('category')\n",
    "\n",
    "for col in X.select_dtypes(include=['int64','float64']).columns:\n",
    "    if col in X_test.columns:\n",
    "        X_test[col] = X_test[col].fillna(X[col].median())\n",
    "\n",
    "#\n",
    "y_pred = model.predict(X_test)  # use tuned model\n"
   ]
  },
  {
   "cell_type": "code",
   "execution_count": null,
   "id": "368a1844",
   "metadata": {},
   "outputs": [],
   "source": []
  }
 ],
 "metadata": {
  "kernelspec": {
   "display_name": "ml",
   "language": "python",
   "name": "python3"
  },
  "language_info": {
   "codemirror_mode": {
    "name": "ipython",
    "version": 3
   },
   "file_extension": ".py",
   "mimetype": "text/x-python",
   "name": "python",
   "nbconvert_exporter": "python",
   "pygments_lexer": "ipython3",
   "version": "3.10.15"
  }
 },
 "nbformat": 4,
 "nbformat_minor": 5
}
